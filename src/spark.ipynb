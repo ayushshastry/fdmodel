{
 "cells": [
  {
   "cell_type": "code",
   "execution_count": 1,
   "metadata": {},
   "outputs": [],
   "source": [
    "import pyspark\n",
    "import pandas as pd"
   ]
  },
  {
   "cell_type": "code",
   "execution_count": 2,
   "metadata": {},
   "outputs": [],
   "source": [
    "# in order to use pyspark, I need to start a spark session\n",
    "from pyspark.sql import SparkSession"
   ]
  },
  {
   "cell_type": "code",
   "execution_count": 3,
   "metadata": {},
   "outputs": [
    {
     "name": "stderr",
     "output_type": "stream",
     "text": [
      "25/04/09 09:57:02 WARN Utils: Your hostname, Ayushs-MacBook-Pro-9.local resolves to a loopback address: 127.0.0.1; using 10.193.109.92 instead (on interface en0)\n",
      "25/04/09 09:57:02 WARN Utils: Set SPARK_LOCAL_IP if you need to bind to another address\n",
      "Setting default log level to \"WARN\".\n",
      "To adjust logging level use sc.setLogLevel(newLevel). For SparkR, use setLogLevel(newLevel).\n",
      "25/04/09 09:57:02 WARN NativeCodeLoader: Unable to load native-hadoop library for your platform... using builtin-java classes where applicable\n"
     ]
    }
   ],
   "source": [
    "# starting session name and creating session name\n",
    "spark = SparkSession.builder.appName('Practice').getOrCreate()"
   ]
  },
  {
   "cell_type": "code",
   "execution_count": 4,
   "metadata": {},
   "outputs": [
    {
     "data": {
      "text/html": [
       "\n",
       "            <div>\n",
       "                <p><b>SparkSession - in-memory</b></p>\n",
       "                \n",
       "        <div>\n",
       "            <p><b>SparkContext</b></p>\n",
       "\n",
       "            <p><a href=\"http://10.193.109.92:4040\">Spark UI</a></p>\n",
       "\n",
       "            <dl>\n",
       "              <dt>Version</dt>\n",
       "                <dd><code>v3.5.5</code></dd>\n",
       "              <dt>Master</dt>\n",
       "                <dd><code>local[*]</code></dd>\n",
       "              <dt>AppName</dt>\n",
       "                <dd><code>Practice</code></dd>\n",
       "            </dl>\n",
       "        </div>\n",
       "        \n",
       "            </div>\n",
       "        "
      ],
      "text/plain": [
       "<pyspark.sql.session.SparkSession at 0x1173e6b60>"
      ]
     },
     "execution_count": 4,
     "metadata": {},
     "output_type": "execute_result"
    }
   ],
   "source": [
    "spark"
   ]
  },
  {
   "cell_type": "code",
   "execution_count": 5,
   "metadata": {},
   "outputs": [],
   "source": [
    "df_salary = spark.read.csv('/Users/ayushshastry/Desktop/pyspark/data/Salary_dataset.csv')"
   ]
  },
  {
   "cell_type": "code",
   "execution_count": 6,
   "metadata": {},
   "outputs": [],
   "source": [
    "# dtypes are default string. add inferScheme argument to fix this\n",
    "df_salary = spark.read.option('header', 'true').csv('/Users/ayushshastry/Desktop/pyspark/data/Salary_dataset.csv', inferSchema=True)"
   ]
  },
  {
   "cell_type": "code",
   "execution_count": 7,
   "metadata": {},
   "outputs": [
    {
     "name": "stdout",
     "output_type": "stream",
     "text": [
      "+---+------------------+-------+\n",
      "|_c0|   YearsExperience| Salary|\n",
      "+---+------------------+-------+\n",
      "|  0|1.2000000000000002|39344.0|\n",
      "|  1|1.4000000000000001|46206.0|\n",
      "|  2|               1.6|37732.0|\n",
      "|  3|               2.1|43526.0|\n",
      "|  4|2.3000000000000003|39892.0|\n",
      "|  5|               3.0|56643.0|\n",
      "|  6|               3.1|60151.0|\n",
      "|  7|3.3000000000000003|54446.0|\n",
      "|  8|3.3000000000000003|64446.0|\n",
      "|  9|3.8000000000000003|57190.0|\n",
      "| 10|               4.0|63219.0|\n",
      "| 11|               4.1|55795.0|\n",
      "| 12|               4.1|56958.0|\n",
      "| 13| 4.199999999999999|57082.0|\n",
      "| 14|               4.6|61112.0|\n",
      "| 15|               5.0|67939.0|\n",
      "| 16| 5.199999999999999|66030.0|\n",
      "| 17|5.3999999999999995|83089.0|\n",
      "| 18|               6.0|81364.0|\n",
      "| 19|               6.1|93941.0|\n",
      "+---+------------------+-------+\n",
      "only showing top 20 rows\n",
      "\n"
     ]
    },
    {
     "name": "stderr",
     "output_type": "stream",
     "text": [
      "25/04/09 09:57:06 WARN CSVHeaderChecker: CSV header does not conform to the schema.\n",
      " Header: , YearsExperience, Salary\n",
      " Schema: _c0, YearsExperience, Salary\n",
      "Expected: _c0 but found: \n",
      "CSV file: file:///Users/ayushshastry/Desktop/pyspark/data/Salary_dataset.csv\n"
     ]
    }
   ],
   "source": [
    "df_salary.show()"
   ]
  },
  {
   "cell_type": "code",
   "execution_count": 8,
   "metadata": {},
   "outputs": [
    {
     "name": "stdout",
     "output_type": "stream",
     "text": [
      "root\n",
      " |-- _c0: integer (nullable = true)\n",
      " |-- YearsExperience: double (nullable = true)\n",
      " |-- Salary: double (nullable = true)\n",
      "\n"
     ]
    }
   ],
   "source": [
    "df_salary.printSchema()"
   ]
  },
  {
   "cell_type": "code",
   "execution_count": 9,
   "metadata": {},
   "outputs": [],
   "source": [
    "# ALTERNATIVELY, i can do this in the read.csv() step\n",
    "df_salary = spark.read.csv('/Users/ayushshastry/Desktop/pyspark/data/Salary_dataset.csv', header=True, inferSchema=True)"
   ]
  },
  {
   "cell_type": "code",
   "execution_count": 10,
   "metadata": {},
   "outputs": [
    {
     "name": "stdout",
     "output_type": "stream",
     "text": [
      "root\n",
      " |-- _c0: integer (nullable = true)\n",
      " |-- YearsExperience: double (nullable = true)\n",
      " |-- Salary: double (nullable = true)\n",
      "\n"
     ]
    }
   ],
   "source": [
    "df_salary.printSchema()"
   ]
  },
  {
   "cell_type": "code",
   "execution_count": 11,
   "metadata": {},
   "outputs": [
    {
     "data": {
      "text/plain": [
       "['_c0', 'YearsExperience', 'Salary']"
      ]
     },
     "execution_count": 11,
     "metadata": {},
     "output_type": "execute_result"
    }
   ],
   "source": [
    "df_salary.columns"
   ]
  },
  {
   "cell_type": "code",
   "execution_count": 12,
   "metadata": {},
   "outputs": [
    {
     "name": "stdout",
     "output_type": "stream",
     "text": [
      "+------------------+\n",
      "|   YearsExperience|\n",
      "+------------------+\n",
      "|1.2000000000000002|\n",
      "|1.4000000000000001|\n",
      "|               1.6|\n",
      "|               2.1|\n",
      "|2.3000000000000003|\n",
      "|               3.0|\n",
      "|               3.1|\n",
      "|3.3000000000000003|\n",
      "|3.3000000000000003|\n",
      "|3.8000000000000003|\n",
      "|               4.0|\n",
      "|               4.1|\n",
      "|               4.1|\n",
      "| 4.199999999999999|\n",
      "|               4.6|\n",
      "|               5.0|\n",
      "| 5.199999999999999|\n",
      "|5.3999999999999995|\n",
      "|               6.0|\n",
      "|               6.1|\n",
      "+------------------+\n",
      "only showing top 20 rows\n",
      "\n"
     ]
    }
   ],
   "source": [
    "# selecting column\n",
    "df_salary.select('YearsExperience').show()"
   ]
  },
  {
   "cell_type": "code",
   "execution_count": 13,
   "metadata": {},
   "outputs": [
    {
     "name": "stdout",
     "output_type": "stream",
     "text": [
      "+------------------+-------+\n",
      "|   YearsExperience| Salary|\n",
      "+------------------+-------+\n",
      "|1.2000000000000002|39344.0|\n",
      "|1.4000000000000001|46206.0|\n",
      "|               1.6|37732.0|\n",
      "|               2.1|43526.0|\n",
      "|2.3000000000000003|39892.0|\n",
      "|               3.0|56643.0|\n",
      "|               3.1|60151.0|\n",
      "|3.3000000000000003|54446.0|\n",
      "|3.3000000000000003|64446.0|\n",
      "|3.8000000000000003|57190.0|\n",
      "|               4.0|63219.0|\n",
      "|               4.1|55795.0|\n",
      "|               4.1|56958.0|\n",
      "| 4.199999999999999|57082.0|\n",
      "|               4.6|61112.0|\n",
      "|               5.0|67939.0|\n",
      "| 5.199999999999999|66030.0|\n",
      "|5.3999999999999995|83089.0|\n",
      "|               6.0|81364.0|\n",
      "|               6.1|93941.0|\n",
      "+------------------+-------+\n",
      "only showing top 20 rows\n",
      "\n"
     ]
    }
   ],
   "source": [
    "df_salary.select(['YearsExperience', 'Salary']).show()"
   ]
  },
  {
   "cell_type": "code",
   "execution_count": 14,
   "metadata": {},
   "outputs": [
    {
     "data": {
      "text/plain": [
       "[('_c0', 'int'), ('YearsExperience', 'double'), ('Salary', 'double')]"
      ]
     },
     "execution_count": 14,
     "metadata": {},
     "output_type": "execute_result"
    }
   ],
   "source": [
    "df_salary.dtypes"
   ]
  },
  {
   "cell_type": "code",
   "execution_count": 15,
   "metadata": {},
   "outputs": [
    {
     "name": "stderr",
     "output_type": "stream",
     "text": [
      "25/04/09 09:57:07 WARN CSVHeaderChecker: CSV header does not conform to the schema.\n",
      " Header: , YearsExperience, Salary\n",
      " Schema: _c0, YearsExperience, Salary\n",
      "Expected: _c0 but found: \n",
      "CSV file: file:///Users/ayushshastry/Desktop/pyspark/data/Salary_dataset.csv\n"
     ]
    },
    {
     "name": "stdout",
     "output_type": "stream",
     "text": [
      "+-------+-----------------+------------------+------------------+\n",
      "|summary|              _c0|   YearsExperience|            Salary|\n",
      "+-------+-----------------+------------------+------------------+\n",
      "|  count|               30|                30|                30|\n",
      "|   mean|             14.5| 5.413333333333332|           76004.0|\n",
      "| stddev|8.803408430829505| 2.837888157662718|27414.429784582302|\n",
      "|    min|                0|1.2000000000000002|           37732.0|\n",
      "|    max|               29|              10.6|          122392.0|\n",
      "+-------+-----------------+------------------+------------------+\n",
      "\n"
     ]
    }
   ],
   "source": [
    "df_salary.describe().show()"
   ]
  },
  {
   "cell_type": "code",
   "execution_count": 16,
   "metadata": {},
   "outputs": [
    {
     "name": "stdout",
     "output_type": "stream",
     "text": [
      "+---+------------------+-------+-----------------------------+\n",
      "|_c0|   YearsExperience| Salary|YearsExperience After 2 Years|\n",
      "+---+------------------+-------+-----------------------------+\n",
      "|  0|1.2000000000000002|39344.0|                          3.2|\n",
      "|  1|1.4000000000000001|46206.0|           3.4000000000000004|\n",
      "|  2|               1.6|37732.0|                          3.6|\n",
      "|  3|               2.1|43526.0|                          4.1|\n",
      "|  4|2.3000000000000003|39892.0|            4.300000000000001|\n",
      "|  5|               3.0|56643.0|                          5.0|\n",
      "|  6|               3.1|60151.0|                          5.1|\n",
      "|  7|3.3000000000000003|54446.0|            5.300000000000001|\n",
      "|  8|3.3000000000000003|64446.0|            5.300000000000001|\n",
      "|  9|3.8000000000000003|57190.0|            5.800000000000001|\n",
      "| 10|               4.0|63219.0|                          6.0|\n",
      "| 11|               4.1|55795.0|                          6.1|\n",
      "| 12|               4.1|56958.0|                          6.1|\n",
      "| 13| 4.199999999999999|57082.0|            6.199999999999999|\n",
      "| 14|               4.6|61112.0|                          6.6|\n",
      "| 15|               5.0|67939.0|                          7.0|\n",
      "| 16| 5.199999999999999|66030.0|            7.199999999999999|\n",
      "| 17|5.3999999999999995|83089.0|           7.3999999999999995|\n",
      "| 18|               6.0|81364.0|                          8.0|\n",
      "| 19|               6.1|93941.0|                          8.1|\n",
      "+---+------------------+-------+-----------------------------+\n",
      "only showing top 20 rows\n",
      "\n"
     ]
    },
    {
     "name": "stderr",
     "output_type": "stream",
     "text": [
      "25/04/09 09:57:07 WARN CSVHeaderChecker: CSV header does not conform to the schema.\n",
      " Header: , YearsExperience, Salary\n",
      " Schema: _c0, YearsExperience, Salary\n",
      "Expected: _c0 but found: \n",
      "CSV file: file:///Users/ayushshastry/Desktop/pyspark/data/Salary_dataset.csv\n"
     ]
    }
   ],
   "source": [
    "# adding columns in data frame\n",
    "df_salary.withColumn('YearsExperience After 2 Years', df_salary['YearsExperience'] + 2).show()"
   ]
  },
  {
   "cell_type": "code",
   "execution_count": 17,
   "metadata": {},
   "outputs": [],
   "source": [
    "df_salary = df_salary.drop('YearsExperience After 2 Years')"
   ]
  },
  {
   "cell_type": "code",
   "execution_count": 18,
   "metadata": {},
   "outputs": [
    {
     "name": "stdout",
     "output_type": "stream",
     "text": [
      "+---+------------------+-------+\n",
      "|_c0|   YearsExperience| Salary|\n",
      "+---+------------------+-------+\n",
      "|  0|1.2000000000000002|39344.0|\n",
      "|  1|1.4000000000000001|46206.0|\n",
      "|  2|               1.6|37732.0|\n",
      "|  3|               2.1|43526.0|\n",
      "|  4|2.3000000000000003|39892.0|\n",
      "|  5|               3.0|56643.0|\n",
      "|  6|               3.1|60151.0|\n",
      "|  7|3.3000000000000003|54446.0|\n",
      "|  8|3.3000000000000003|64446.0|\n",
      "|  9|3.8000000000000003|57190.0|\n",
      "| 10|               4.0|63219.0|\n",
      "| 11|               4.1|55795.0|\n",
      "| 12|               4.1|56958.0|\n",
      "| 13| 4.199999999999999|57082.0|\n",
      "| 14|               4.6|61112.0|\n",
      "| 15|               5.0|67939.0|\n",
      "| 16| 5.199999999999999|66030.0|\n",
      "| 17|5.3999999999999995|83089.0|\n",
      "| 18|               6.0|81364.0|\n",
      "| 19|               6.1|93941.0|\n",
      "+---+------------------+-------+\n",
      "only showing top 20 rows\n",
      "\n"
     ]
    },
    {
     "name": "stderr",
     "output_type": "stream",
     "text": [
      "25/04/09 09:57:08 WARN CSVHeaderChecker: CSV header does not conform to the schema.\n",
      " Header: , YearsExperience, Salary\n",
      " Schema: _c0, YearsExperience, Salary\n",
      "Expected: _c0 but found: \n",
      "CSV file: file:///Users/ayushshastry/Desktop/pyspark/data/Salary_dataset.csv\n"
     ]
    }
   ],
   "source": [
    "df_salary.show()"
   ]
  },
  {
   "cell_type": "code",
   "execution_count": 19,
   "metadata": {},
   "outputs": [
    {
     "name": "stdout",
     "output_type": "stream",
     "text": [
      "+---+------------------+-------+\n",
      "|_c0|        Experience| Salary|\n",
      "+---+------------------+-------+\n",
      "|  0|1.2000000000000002|39344.0|\n",
      "|  1|1.4000000000000001|46206.0|\n",
      "|  2|               1.6|37732.0|\n",
      "|  3|               2.1|43526.0|\n",
      "|  4|2.3000000000000003|39892.0|\n",
      "|  5|               3.0|56643.0|\n",
      "|  6|               3.1|60151.0|\n",
      "|  7|3.3000000000000003|54446.0|\n",
      "|  8|3.3000000000000003|64446.0|\n",
      "|  9|3.8000000000000003|57190.0|\n",
      "| 10|               4.0|63219.0|\n",
      "| 11|               4.1|55795.0|\n",
      "| 12|               4.1|56958.0|\n",
      "| 13| 4.199999999999999|57082.0|\n",
      "| 14|               4.6|61112.0|\n",
      "| 15|               5.0|67939.0|\n",
      "| 16| 5.199999999999999|66030.0|\n",
      "| 17|5.3999999999999995|83089.0|\n",
      "| 18|               6.0|81364.0|\n",
      "| 19|               6.1|93941.0|\n",
      "+---+------------------+-------+\n",
      "only showing top 20 rows\n",
      "\n"
     ]
    },
    {
     "name": "stderr",
     "output_type": "stream",
     "text": [
      "25/04/09 09:57:08 WARN CSVHeaderChecker: CSV header does not conform to the schema.\n",
      " Header: , YearsExperience, Salary\n",
      " Schema: _c0, YearsExperience, Salary\n",
      "Expected: _c0 but found: \n",
      "CSV file: file:///Users/ayushshastry/Desktop/pyspark/data/Salary_dataset.csv\n"
     ]
    }
   ],
   "source": [
    "# Rename the Column\n",
    "\n",
    "df_salary.withColumnRenamed('YearsExperience', 'Experience').show()"
   ]
  },
  {
   "cell_type": "code",
   "execution_count": 20,
   "metadata": {},
   "outputs": [
    {
     "name": "stderr",
     "output_type": "stream",
     "text": [
      "25/04/09 09:57:08 WARN CSVHeaderChecker: CSV header does not conform to the schema.\n",
      " Header: , YearsExperience, Salary\n",
      " Schema: _c0, YearsExperience, Salary\n",
      "Expected: _c0 but found: \n",
      "CSV file: file:///Users/ayushshastry/Desktop/pyspark/data/Salary_dataset.csv\n"
     ]
    },
    {
     "name": "stdout",
     "output_type": "stream",
     "text": [
      "+---+------------------+-------+\n",
      "|_c0|   YearsExperience| Salary|\n",
      "+---+------------------+-------+\n",
      "|  0|1.2000000000000002|39344.0|\n",
      "|  1|1.4000000000000001|46206.0|\n",
      "|  2|               1.6|37732.0|\n",
      "|  3|               2.1|43526.0|\n",
      "|  4|2.3000000000000003|39892.0|\n",
      "|  5|               3.0|56643.0|\n",
      "|  6|               3.1|60151.0|\n",
      "|  7|3.3000000000000003|54446.0|\n",
      "|  8|3.3000000000000003|64446.0|\n",
      "|  9|3.8000000000000003|57190.0|\n",
      "| 10|               4.0|63219.0|\n",
      "| 11|               4.1|55795.0|\n",
      "| 12|               4.1|56958.0|\n",
      "| 13| 4.199999999999999|57082.0|\n",
      "| 14|               4.6|61112.0|\n",
      "| 15|               5.0|67939.0|\n",
      "| 16| 5.199999999999999|66030.0|\n",
      "| 17|5.3999999999999995|83089.0|\n",
      "| 18|               6.0|81364.0|\n",
      "| 19|               6.1|93941.0|\n",
      "+---+------------------+-------+\n",
      "only showing top 20 rows\n",
      "\n"
     ]
    }
   ],
   "source": [
    "# without reassignment df_salary will not change, similar to pandas\n",
    "df_salary.show()"
   ]
  },
  {
   "cell_type": "code",
   "execution_count": 21,
   "metadata": {},
   "outputs": [
    {
     "name": "stdout",
     "output_type": "stream",
     "text": [
      "+-------+------+------+\n",
      "|   Name|Score1|Score2|\n",
      "+-------+------+------+\n",
      "|  Alice|  85.0|  NULL|\n",
      "|    Bob|  NULL|  88.0|\n",
      "|Charlie|  78.0|  91.0|\n",
      "|  Diana|  92.0|  NULL|\n",
      "|  Ethan|  NULL|  76.0|\n",
      "+-------+------+------+\n",
      "\n"
     ]
    }
   ],
   "source": [
    "df_missing = spark.read.csv('/Users/ayushshastry/Desktop/pyspark/data/names_with_scores.csv', header=True, inferSchema=True)\n",
    "df_missing.show()"
   ]
  },
  {
   "cell_type": "code",
   "execution_count": 22,
   "metadata": {},
   "outputs": [
    {
     "name": "stdout",
     "output_type": "stream",
     "text": [
      "+------+------+\n",
      "|Score1|Score2|\n",
      "+------+------+\n",
      "|  85.0|  NULL|\n",
      "|  NULL|  88.0|\n",
      "|  78.0|  91.0|\n",
      "|  92.0|  NULL|\n",
      "|  NULL|  76.0|\n",
      "+------+------+\n",
      "\n",
      "+-------+------+------+\n",
      "|   Name|Score1|Score2|\n",
      "+-------+------+------+\n",
      "|  Alice|  85.0|  NULL|\n",
      "|    Bob|  NULL|  88.0|\n",
      "|Charlie|  78.0|  91.0|\n",
      "|  Diana|  92.0|  NULL|\n",
      "|  Ethan|  NULL|  76.0|\n",
      "+-------+------+------+\n",
      "\n"
     ]
    },
    {
     "data": {
      "text/plain": [
       "(None, None)"
      ]
     },
     "execution_count": 22,
     "metadata": {},
     "output_type": "execute_result"
    }
   ],
   "source": [
    "# drop columns\n",
    "df_missing.drop('Name').show(), df_missing.show()"
   ]
  },
  {
   "cell_type": "code",
   "execution_count": 23,
   "metadata": {},
   "outputs": [
    {
     "name": "stdout",
     "output_type": "stream",
     "text": [
      "+-------+------+------+\n",
      "|   Name|Score1|Score2|\n",
      "+-------+------+------+\n",
      "|Charlie|  78.0|  91.0|\n",
      "+-------+------+------+\n",
      "\n"
     ]
    }
   ],
   "source": [
    "# dropping rows with null values\n",
    "df_missing.na.drop().show()"
   ]
  },
  {
   "cell_type": "code",
   "execution_count": 24,
   "metadata": {},
   "outputs": [
    {
     "name": "stdout",
     "output_type": "stream",
     "text": [
      "+-------+------+------+\n",
      "|   Name|Score1|Score2|\n",
      "+-------+------+------+\n",
      "|  Alice|  85.0|  NULL|\n",
      "|    Bob|  NULL|  88.0|\n",
      "|Charlie|  78.0|  91.0|\n",
      "|  Diana|  92.0|  NULL|\n",
      "|  Ethan|  NULL|  76.0|\n",
      "+-------+------+------+\n",
      "\n"
     ]
    }
   ],
   "source": [
    "# when how == all, only rows with ALL NULL values will be dropped, by default - how == any\n",
    "\n",
    "df_missing.na.drop(how='all').show()"
   ]
  },
  {
   "cell_type": "code",
   "execution_count": 25,
   "metadata": {},
   "outputs": [
    {
     "name": "stdout",
     "output_type": "stream",
     "text": [
      "+-------+------+------+\n",
      "|   Name|Score1|Score2|\n",
      "+-------+------+------+\n",
      "|  Alice|  85.0|  NULL|\n",
      "|    Bob|  NULL|  88.0|\n",
      "|Charlie|  78.0|  91.0|\n",
      "|  Diana|  92.0|  NULL|\n",
      "|  Ethan|  NULL|  76.0|\n",
      "+-------+------+------+\n",
      "\n"
     ]
    }
   ],
   "source": [
    "df_missing.na.drop(how='any', thresh=2).show() # thresh says that it will only delete rows if count(null_values) > thresh\n",
    "# in my case, nothing gets dropped"
   ]
  },
  {
   "cell_type": "code",
   "execution_count": 26,
   "metadata": {},
   "outputs": [
    {
     "name": "stdout",
     "output_type": "stream",
     "text": [
      "+-------+------+------+\n",
      "|   Name|Score1|Score2|\n",
      "+-------+------+------+\n",
      "|  Alice|  85.0|  NULL|\n",
      "|Charlie|  78.0|  91.0|\n",
      "|  Diana|  92.0|  NULL|\n",
      "+-------+------+------+\n",
      "\n"
     ]
    }
   ],
   "source": [
    "# subset parameter in drop()\n",
    "df_missing.na.drop(how='any', subset=['Score1']).show() # will only take out null values w.r.t to a(multiple) columns\n",
    "\n",
    "# in the case, I deleted all null values present in Score1 column"
   ]
  },
  {
   "cell_type": "code",
   "execution_count": 27,
   "metadata": {},
   "outputs": [
    {
     "name": "stdout",
     "output_type": "stream",
     "text": [
      "+-------+------+------+\n",
      "|   Name|Score1|Score2|\n",
      "+-------+------+------+\n",
      "|  Alice|  85.0|  NULL|\n",
      "|    Bob|   0.0|  88.0|\n",
      "|Charlie|  78.0|  91.0|\n",
      "|  Diana|  92.0|  NULL|\n",
      "|  Ethan|   0.0|  76.0|\n",
      "+-------+------+------+\n",
      "\n"
     ]
    }
   ],
   "source": [
    "# filling NA values\n",
    "\n",
    "df_missing.na.fill(0, subset=[\"Score1\"]).show() # works the same as drop in terms of paraemeters"
   ]
  },
  {
   "cell_type": "code",
   "execution_count": 28,
   "metadata": {},
   "outputs": [
    {
     "name": "stdout",
     "output_type": "stream",
     "text": [
      "+-------+------+------+\n",
      "|   Name|Score1|Score2|\n",
      "+-------+------+------+\n",
      "|  Alice|  85.0|  NULL|\n",
      "|    Bob|  NULL|  88.0|\n",
      "|Charlie|  78.0|  91.0|\n",
      "|  Diana|  92.0|  NULL|\n",
      "|  Ethan|  NULL|  76.0|\n",
      "+-------+------+------+\n",
      "\n"
     ]
    }
   ],
   "source": [
    "df_missing.show()"
   ]
  },
  {
   "cell_type": "code",
   "execution_count": 29,
   "metadata": {},
   "outputs": [],
   "source": [
    "# using imputer function\n",
    "from pyspark.ml.feature import Imputer\n",
    "\n",
    "imputer = Imputer(\n",
    "    inputCols = df_missing.columns[1:],\n",
    "    outputCols = [\"{}_imputed\".format(c) for c in df_missing.columns[1:]] # format.(c) puts whatever c is in between the {}\n",
    ").setStrategy(\"mean\")"
   ]
  },
  {
   "cell_type": "code",
   "execution_count": 30,
   "metadata": {},
   "outputs": [],
   "source": [
    "df_fixed = imputer.fit(df_missing).transform(df_missing) # we can see replaced values appended at the end of original table"
   ]
  },
  {
   "cell_type": "code",
   "execution_count": 31,
   "metadata": {},
   "outputs": [
    {
     "name": "stdout",
     "output_type": "stream",
     "text": [
      "+-------+------+------+--------------+--------------+\n",
      "|   Name|Score1|Score2|Score1_imputed|Score2_imputed|\n",
      "+-------+------+------+--------------+--------------+\n",
      "|  Alice|  85.0|  NULL|          85.0|          85.0|\n",
      "|    Bob|  NULL|  88.0|          85.0|          88.0|\n",
      "|Charlie|  78.0|  91.0|          78.0|          91.0|\n",
      "|  Diana|  92.0|  NULL|          92.0|          85.0|\n",
      "|  Ethan|  NULL|  76.0|          85.0|          76.0|\n",
      "+-------+------+------+--------------+--------------+\n",
      "\n"
     ]
    }
   ],
   "source": [
    "df_fixed.show()"
   ]
  },
  {
   "cell_type": "code",
   "execution_count": 32,
   "metadata": {},
   "outputs": [],
   "source": [
    "df_fixed = df_fixed.drop(\"Score1\", \"Score2\")"
   ]
  },
  {
   "cell_type": "code",
   "execution_count": 33,
   "metadata": {},
   "outputs": [],
   "source": [
    "df_fixed = df_fixed.withColumnRenamed('Score1_imputed', 'Score1')"
   ]
  },
  {
   "cell_type": "code",
   "execution_count": 34,
   "metadata": {},
   "outputs": [
    {
     "name": "stdout",
     "output_type": "stream",
     "text": [
      "+-------+------+------+\n",
      "|   Name|Score1|Score2|\n",
      "+-------+------+------+\n",
      "|  Alice|  85.0|  85.0|\n",
      "|    Bob|  85.0|  88.0|\n",
      "|Charlie|  78.0|  91.0|\n",
      "|  Diana|  92.0|  85.0|\n",
      "|  Ethan|  85.0|  76.0|\n",
      "+-------+------+------+\n",
      "\n"
     ]
    }
   ],
   "source": [
    "df_fixed = df_fixed.withColumnRenamed('Score2_imputed', 'Score2')\n",
    "df_fixed.show()"
   ]
  },
  {
   "cell_type": "code",
   "execution_count": 35,
   "metadata": {},
   "outputs": [],
   "source": [
    "# 46:12"
   ]
  },
  {
   "cell_type": "code",
   "execution_count": null,
   "metadata": {},
   "outputs": [],
   "source": []
  },
  {
   "cell_type": "code",
   "execution_count": null,
   "metadata": {},
   "outputs": [],
   "source": []
  },
  {
   "cell_type": "code",
   "execution_count": null,
   "metadata": {},
   "outputs": [],
   "source": []
  },
  {
   "cell_type": "code",
   "execution_count": null,
   "metadata": {},
   "outputs": [],
   "source": []
  },
  {
   "cell_type": "code",
   "execution_count": null,
   "metadata": {},
   "outputs": [],
   "source": []
  }
 ],
 "metadata": {
  "kernelspec": {
   "display_name": "Python 3.10.6 64-bit",
   "language": "python",
   "name": "python3"
  },
  "language_info": {
   "codemirror_mode": {
    "name": "ipython",
    "version": 3
   },
   "file_extension": ".py",
   "mimetype": "text/x-python",
   "name": "python",
   "nbconvert_exporter": "python",
   "pygments_lexer": "ipython3",
   "version": "3.10.6"
  },
  "orig_nbformat": 4,
  "vscode": {
   "interpreter": {
    "hash": "aee8b7b246df8f9039afb4144a1f6fd8d2ca17a180786b69acc140d282b71a49"
   }
  }
 },
 "nbformat": 4,
 "nbformat_minor": 2
}
